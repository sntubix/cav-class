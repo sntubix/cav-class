{
 "cells": [
  {
   "cell_type": "markdown",
   "metadata": {},
   "source": [
    "# Connected and Autonomous Driving - Planning module\n",
    "\n",
    "----\n",
    "\n",
    "In this module, we will learn how to navigate a map by exploring some popular pathfinding algorithms. All of the algorithm you will use in this lab have been introduced during the class and you can find more detailed descriptions and representations of these algorithms there.\n",
    "\n",
    "Do not hesitate to create additional code or markdown cells to answer the questions in this notebook."
   ]
  },
  {
   "cell_type": "code",
   "execution_count": null,
   "metadata": {},
   "outputs": [],
   "source": [
    "#Import libraries\n",
    "import math\n",
    "import queue"
   ]
  },
  {
   "cell_type": "markdown",
   "metadata": {},
   "source": [
    "## The graph\n",
    "\n",
    "In order to calculate a best path on a map, we use graph search algorithm. It means we need to look at what our graph is first, and how it represent our map. \n",
    "\n",
    "This Graph is simply a set of Vertices and Edges: \n",
    "- The Vertices represent the possible points to explore, from which we can start or end. \n",
    "- The Edges represent the connections between those Vertices. \n"
   ]
  },
  {
   "cell_type": "code",
   "execution_count": null,
   "metadata": {},
   "outputs": [],
   "source": [
    "class Graph():\n",
    "    \n",
    "    def __init__(self):\n",
    "        #The Vertice and edges are stored in the edges dictionnary: \n",
    "        #   - every Vertice is stored in the dict.\n",
    "        #   - every Edge is assigned to the Vertice it starts from\n",
    "        #   - every Edge is of the form (V,w) where V is the other vertice it leads to, and w the weight of that edge\n",
    "        self.edges = {}\n",
    "    \n",
    "    def add_edges(self, origin, dest, weight=0):\n",
    "        #Add a new Edge that goes from origin to dest\n",
    "        #If one of the 2 Vertice does not exist in the dictionary, create it\n",
    "        if origin not in self.edges:\n",
    "            self.edges[origin] = []\n",
    "        if dest not in self.edges:\n",
    "            self.edges[dest] = []\n",
    "        self.edges[origin].append((dest, weight))\n",
    "    \n",
    "    def neighbors(self, node):\n",
    "        #Takes a Vertice and returns all other Vertice it has an Edge toward.\n",
    "        if node not in self.edges:\n",
    "            print(\"Vertice not found:\",node)\n",
    "            return[]\n",
    "        neighbors=[]\n",
    "        for edge in self.edges[node]:\n",
    "            neighbors.append(edge[0])\n",
    "        return(neighbors)\n",
    "        \n",
    "\n",
    "    def build_grid(self, G):\n",
    "        #Takes a 2D list and return and build a rectangular grid in its shape.\n",
    "        #The values in G provide the weights of the connections leading to that Vertice in the grid\n",
    "        nb_row, nb_col = len(G), len(G[0])\n",
    "        for row in range(nb_row):\n",
    "            for col in range(nb_col):\n",
    "                for (i,j) in [(-1,0),(1,0),(0,-1),(0,1)]:\n",
    "                        if (-1<row+i and row+i<nb_row and -1<col+j and col+j<nb_col):\n",
    "                            self.add_edges((row,col),(row+i,col+j),weight=G[row+i][col+j])\n",
    "\n",
    "    def cost(self, origin, dest):\n",
    "        if origin in self.edges and dest in self.edges:\n",
    "            for edge in self.edges[origin]:\n",
    "                if edge[0]==dest:\n",
    "                    return edge[1]\n",
    "            print(\"There is no edge between those vertice\")\n",
    "        else:\n",
    "            print(\"Vertice not found\")\n",
    "        return[]\n",
    "\n",
    "\n",
    "\n",
    "g = Graph()\n",
    "graph = [[0 for column in range(4)]\n",
    "                      for row in range(4)]\n",
    "print(graph)\n",
    "g.build_grid(graph)\n",
    "print(g.edges)\n",
    "print(g.neighbors((3,1)))\n",
    "print(g.cost((0,1),(0,0)))\n"
   ]
  },
  {
   "cell_type": "markdown",
   "metadata": {},
   "source": [
    "## Graph search\n",
    "\n",
    "Let's start with the most intuitive graph search strategy: exploring everything.\n",
    "\n",
    "### Breadth first search\n",
    "\n",
    "In this first algorithm, we start from an origin point, and from there explore its neighbors. We repeat the operation for every new neighbors while remembering which Vertice led us to it. Once we reach the destination as one of the new neighbour, we walk back our steps to see all the Vertices on our path.\n",
    "We need 2 list: one to store the new points to explore at the frontier of our search, and one to store already explored points. In order to get the path to the target, we also need every reached point to 'remember' which Vertice it was reached from.\n",
    "\n",
    "Fill the missing code below to complete the algorithm:"
   ]
  },
  {
   "cell_type": "code",
   "execution_count": null,
   "metadata": {},
   "outputs": [],
   "source": [
    "def BreadthFirst(graph, start, goal):\n",
    "   frontier = queue.Queue()\n",
    "   frontier.put(start )\n",
    "   came_from = dict() # path A->B is stored as came_from[B] == A\n",
    "   came_from[start] = None\n",
    "\n",
    "   while not frontier.empty():\n",
    "      ##TODO##\n",
    "      \n",
    "      \n",
    "      \n",
    "      ##TODO##\n",
    "   return(walkback(came_from, start, goal))\n",
    "\n",
    "\n",
    "# The walkback function takes the queue of an algorithm with the nodes of the best path\n",
    "# It returns the list of all nodes in the correct order from start to goal\n",
    "def walkback(came, start, goal):\n",
    "   path=[]\n",
    "   ##TODO##\n",
    "\n",
    "   \n",
    "\n",
    "   ##TODO##\n",
    "   return(path)\n",
    "\n",
    "\n",
    "print(BreadthFirst(g, (0,0),(2,2)))\n"
   ]
  },
  {
   "cell_type": "markdown",
   "metadata": {},
   "source": [
    "- What is the advantage of using a dict() to store the explored Vertices ?\n",
    "- Why use a queue instead of a list for frontier Vertices ?\n",
    "- Do you think your algorithm explore many unnecessary Vertices ?\n",
    "- Are there specific scenario where it can fail to find a best path ?"
   ]
  },
  {
   "cell_type": "markdown",
   "metadata": {},
   "source": [
    "### Dijkstra\n",
    "\n",
    "Although the previous method finds a best path, it is not the most efficient. Moreover, it does not work when we are dealing with a weighted graph where some Vertices are more expensive than others. In our application for exemple, not all CARLA waypoints are at the same distance from each other.\n",
    "\n",
    "To solve this issue, Dijkstra improve Breadth First Search by turning the Queue into a Weighted Queue that look at the cost of visiting new Vertices. Instead of visiting the oldest Vertice in the queue, Dijkstra's visit the lowest total cost note, where the total cost represent the length from that Vertice to the origin.\n",
    "\n",
    "$$ Vertice_{next} = Frontier [\\min(cost)]$$\n",
    "\n"
   ]
  },
  {
   "cell_type": "code",
   "execution_count": null,
   "metadata": {},
   "outputs": [],
   "source": [
    "def dijkstra(graph, start, goal):\n",
    "    frontier = queue.PriorityQueue()\n",
    "    frontier.put(start, 0)\n",
    "    came_from = dict()\n",
    "    cost_so_far = dict()\n",
    "    came_from[start] = None\n",
    "    cost_so_far[start] = 0\n",
    "\n",
    "    while not frontier.empty():\n",
    "        ##TODO##\n",
    "        \n",
    "        \n",
    "                \n",
    "        ##TODO##\n",
    "    return(walkback(came_from, start, goal))"
   ]
  },
  {
   "cell_type": "markdown",
   "metadata": {},
   "source": [
    "- How does the weighted queue improve the previous algorithm ?\n",
    "- Is your Dijkstra exploring fewer unnecessary Vertices than the previous methodes ? Explain your answer and prove it by showing the number of nodes explored by both methods.\n",
    "- Modify the grid below to create a scenario where Breadth First Search fails to find a best path and Dijkstra does not. Display the nodes in the found path as well as its total cost for both algorithm."
   ]
  },
  {
   "cell_type": "code",
   "execution_count": null,
   "metadata": {},
   "outputs": [],
   "source": [
    "g_w = Graph()\n",
    "graph = [[1,1,1,1,1,1,1,1,1],\n",
    "         [1,1,1,1,1,1,1,1,1],\n",
    "         [1,1,1,1,1,1,1,1,1],\n",
    "         [1,1,1,1,1,1,1,1,1],\n",
    "         [1,1,1,1,1,1,1,1,1],\n",
    "         [1,1,1,1,1,1,1,1,1]]\n",
    "g_w.build_grid(graph)\n",
    "\n",
    "dijkstra(g_w, (1,1), (2,6))"
   ]
  },
  {
   "cell_type": "markdown",
   "metadata": {},
   "source": [
    "## Looking back and ahead: A* algorithm\n",
    "\n",
    "While Dijkstra's always look at the past from the origin when choosing a new Vertice to explore, A* also look at the destination using a heuristic. This heuristic defines a way to estimate distances in the graph and always estimate the distance between the current Vertice and the destination.\n",
    "\n",
    "Then, the strategy is the same is Dijkstra's, but adding the heuristic from the current Vertice to the goal to the cost when evaluating the next Vertice to visit:\n",
    "\n",
    "$$ Vertice_{next} = Frontier [\\min(cost + heuristic)]$$"
   ]
  },
  {
   "cell_type": "code",
   "execution_count": null,
   "metadata": {},
   "outputs": [],
   "source": [
    "def heuristic(a, b):\n",
    "   return abs(a[0] - b[0]) + abs(a[1] - b[1])\n",
    "\n",
    "def A_star(graph, start, goal):\n",
    "    frontier = queue.PriorityQueue()\n",
    "    frontier.put(start, 0)\n",
    "    came_from = dict()\n",
    "    cost_so_far = dict()\n",
    "    came_from[start] = None\n",
    "    cost_so_far[start] = 0\n",
    "\n",
    "    while not frontier.empty():\n",
    "        ##TODO##\n",
    "        \n",
    "\n",
    "\n",
    "        ##TODO##\n",
    "    return(walkback(came_from, start, goal))"
   ]
  },
  {
   "cell_type": "markdown",
   "metadata": {},
   "source": [
    "- How does the heuristic improve the previous algorithm ? What is the name of the heuristic used above ? Propose another similar heuristic that could be used here, and discuss which one is more adapted.\n",
    "- Is your A* exploring fewer unnecessary Vertices than previous methodes ? Explain your answer and prove it by showing the number of nodes explored by all methods."
   ]
  },
  {
   "cell_type": "code",
   "execution_count": null,
   "metadata": {},
   "outputs": [],
   "source": [
    "graph = graph = [[1,1,1,1,10,1,1,1,1],\n",
    "                 [1,1,1,1,10,1,1,1,1],\n",
    "                 [1,1,1,1,1,1,1,1,1],\n",
    "                 [1,1,1,1,10,1,1,1,1],\n",
    "                 [1,1,1,1,10,1,1,1,1],\n",
    "                 [1,1,1,1,10,1,1,1,1]]\n",
    " \n",
    "maze = Graph()\n",
    "maze.build_grid(graph)\n",
    "\n",
    "start = (0, 0)\n",
    "end = (0, 5)\n",
    "\n",
    "path = A_star(maze, start, end)\n",
    "print(path)\n"
   ]
  },
  {
   "cell_type": "markdown",
   "metadata": {},
   "source": [
    "## Moving to CARLA\n",
    "\n",
    "You have now successfully completed the Jupyter part of this module. In order to integrate this module in the CARLA simulation, go the the global_route_planner.py file. The current planner uses an A* library to calculate a path in the _path_search() method. \n",
    "\n",
    "Uncomment the astar_path() method above it and finish its code using what you learned here. Then replace the currently called nx.astar() in _path_search() with self.astar_path.\n",
    "\n",
    "----\n",
    "\n",
    "You can run the Simulation_control.py from the previous module again to verify that your car takes the same route to reach its destination in each scenario. \n",
    "Run it without the --scenario argument as well to let the car choose random destinations and observe if the path is correct.\n",
    "\n",
    "You may also use the --loop argument to let the car find a new random destination after it has reached its goal."
   ]
  }
 ],
 "metadata": {
  "kernelspec": {
   "display_name": "carla",
   "language": "python",
   "name": "python3"
  },
  "language_info": {
   "codemirror_mode": {
    "name": "ipython",
    "version": 3
   },
   "file_extension": ".py",
   "mimetype": "text/x-python",
   "name": "python",
   "nbconvert_exporter": "python",
   "pygments_lexer": "ipython3",
   "version": "3.10.14"
  }
 },
 "nbformat": 4,
 "nbformat_minor": 2
}
